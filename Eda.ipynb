{
 "cells": [
  {
   "cell_type": "code",
   "execution_count": 6,
   "metadata": {},
   "outputs": [],
   "source": [
    "import pandas as pd\n",
    "import seaborn as  sns\n",
    "from sklearn.metrics.pairwise import cosine_similarity"
   ]
  },
  {
   "cell_type": "markdown",
   "metadata": {},
   "source": []
  },
  {
   "cell_type": "code",
   "execution_count": 8,
   "metadata": {},
   "outputs": [
    {
     "name": "stdout",
     "output_type": "stream",
     "text": [
      "Recomendaciones para el usuario 520 :\n",
      "1. 12 Labours of Hercules\n",
      "2. Rust\n",
      "3. Rising Storm/Red Orchestra 2 Multiplayer\n",
      "4. Risk of Rain\n",
      "5. Robocraft\n"
     ]
    }
   ],
   "source": [
    "import pandas as pd\n",
    "from sklearn.metrics.pairwise import cosine_similarity\n",
    "\n",
    "# Definir la función recomendacion_usuario con muestreo de datos\n",
    "def recomendacion_usuario(id_usuario):\n",
    "    # Cargar el archivo CSV\n",
    "    df1 = pd.read_csv('new_users_item.csv')\n",
    "\n",
    "    # Muestra aleatoria de datos (ajusta el tamaño según sea necesario)\n",
    "    df_sample = df1.sample(n=1000, random_state=42)  # Por ejemplo, tomar una muestra de 1000 filas\n",
    "\n",
    "    # Eliminar duplicados en df_sample si es necesario\n",
    "    df_sample = df_sample.drop_duplicates(subset=['user_id', 'item_name'])\n",
    "\n",
    "    df_sample['user_id_numerico'] = range(len(df_sample))\n",
    "\n",
    "    # Pivotear datos\n",
    "    matriz_usuarios_items = df_sample.pivot(index='user_id_numerico', columns='item_name', values='playtime_forever').fillna(0)\n",
    "\n",
    "    # Calcular similitud coseno entre usuarios\n",
    "    similitudes = cosine_similarity(matriz_usuarios_items)\n",
    "\n",
    "    # Obtener los índices de los usuarios más parecidos\n",
    "    indices_similares = similitudes[id_usuario].argsort()[-6:][::-1]\n",
    "\n",
    "    # Quitar el índice del usuario actual\n",
    "    indices_similares = indices_similares[1:]\n",
    "\n",
    "    # Obtener items de usuarios similares\n",
    "    items_similares = matriz_usuarios_items.iloc[indices_similares] \n",
    "\n",
    "    # Obtener items no interactuados por el usuario\n",
    "    items_no_interactuados = items_similares.columns[~items_similares.columns.isin(matriz_usuarios_items.columns[matriz_usuarios_items.loc[id_usuario] > 0])]\n",
    "\n",
    "    # Ordenar items por promedio de tiempo en usuarios similares\n",
    "    items_recomendados = items_similares[items_no_interactuados].mean().sort_values(ascending=False)\n",
    "\n",
    "    # Devolver las top 5 recomendaciones\n",
    "    return list(items_recomendados.index)[:5]\n",
    "\n",
    "# Llamar a la función con el ID de usuario deseado (reemplaza 'id_de_usuario' con el ID real)\n",
    "id_de_usuario = 520  # Reemplaza con el ID de usuario que desees\n",
    "recomendaciones = recomendacion_usuario(id_de_usuario)\n",
    "\n",
    "# Imprimir las recomendaciones\n",
    "print(\"Recomendaciones para el usuario\", id_de_usuario, \":\")\n",
    "for i, juego in enumerate(recomendaciones, 1):\n",
    "    print(f\"{i}. {juego}\")\n"
   ]
  },
  {
   "cell_type": "code",
   "execution_count": 26,
   "metadata": {},
   "outputs": [
    {
     "name": "stdout",
     "output_type": "stream",
     "text": [
      "Recomendaciones para el juego con ID 80 :\n",
      "1. Juego ID: theHunter\n",
      "2. Juego ID: FlatOut 2\n",
      "3. Juego ID: Free to Play\n",
      "4. Juego ID: Fractal: Make Blooms Not War\n",
      "5. Juego ID: Forsaken World \n"
     ]
    }
   ],
   "source": [
    "import pandas as pd\n",
    "from sklearn.metrics.pairwise import cosine_similarity\n",
    "\n",
    "def recomendacion_juego(id_juego):\n",
    "    # Leer datos\n",
    "    df1 = pd.read_csv('new_users_item.csv')\n",
    "\n",
    "    df_sample = df1.sample(n=1000, random_state=42)\n",
    "    \n",
    "    # Eliminar duplicados en df_sample si es necesario\n",
    "    df_sample = df_sample.drop_duplicates(subset=['item_name', 'user_id'])\n",
    "\n",
    "    # Pivotear datos\n",
    "    matriz_items = df_sample.pivot(index='item_name', columns='user_id', values='playtime_forever').fillna(0)\n",
    "\n",
    "    # Calcular similitud coseno entre items\n",
    "    similitudes = cosine_similarity(matriz_items)\n",
    "\n",
    "    # Obtener índices de items más similares\n",
    "    indices_similares = similitudes[id_juego].argsort()[-6:][::-1]\n",
    "\n",
    "    # Quitar el índice del item actual\n",
    "    indices_similares = indices_similares[1:]\n",
    "\n",
    "    # Obtener los IDs de los ítems similares\n",
    "    items_similares = list(matriz_items.index[indices_similares][:5])\n",
    "\n",
    "    return items_similares\n",
    "\n",
    "  \n",
    "  \n",
    "# Llamada a la función con un identificador de juego válido\n",
    "id_juego = 80  # Reemplaza con un ID de juego real\n",
    "recomendaciones = recomendacion_juego(id_juego)\n",
    "\n",
    "# Imprime las recomendaciones\n",
    "print(\"Recomendaciones para el juego con ID\", id_juego, \":\")\n",
    "for i, juego_id in enumerate(recomendaciones, 1):\n",
    "    print(f\"{i}. Juego ID: {juego_id}\")\n",
    "\n"
   ]
  }
 ],
 "metadata": {
  "kernelspec": {
   "display_name": "Python 3",
   "language": "python",
   "name": "python3"
  },
  "language_info": {
   "codemirror_mode": {
    "name": "ipython",
    "version": 3
   },
   "file_extension": ".py",
   "mimetype": "text/x-python",
   "name": "python",
   "nbconvert_exporter": "python",
   "pygments_lexer": "ipython3",
   "version": "3.10.12"
  },
  "orig_nbformat": 4
 },
 "nbformat": 4,
 "nbformat_minor": 2
}
